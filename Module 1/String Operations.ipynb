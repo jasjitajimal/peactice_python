{
 "cells": [
  {
   "cell_type": "markdown",
   "id": "a5db5fe9-17d7-4543-aec0-e47fe97563e5",
   "metadata": {},
   "source": [
    "# String Operations"
   ]
  },
  {
   "cell_type": "markdown",
   "id": "b9b741eb-24f9-461f-9413-097426ff34a7",
   "metadata": {},
   "source": [
    "<b> 1) What is the value of the variable <code>a</code> after the following code is executed?"
   ]
  },
  {
   "cell_type": "code",
   "execution_count": null,
   "id": "8a13b41e-d67a-4cce-a8ce-72c1223d94a1",
   "metadata": {},
   "outputs": [],
   "source": []
  }
 ],
 "metadata": {
  "kernelspec": {
   "display_name": "Python 3 (ipykernel)",
   "language": "python",
   "name": "python3"
  },
  "language_info": {
   "codemirror_mode": {
    "name": "ipython",
    "version": 3
   },
   "file_extension": ".py",
   "mimetype": "text/x-python",
   "name": "python",
   "nbconvert_exporter": "python",
   "pygments_lexer": "ipython3",
   "version": "3.11.6"
  }
 },
 "nbformat": 4,
 "nbformat_minor": 5
}
