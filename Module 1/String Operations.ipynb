{
 "cells": [
  {
   "cell_type": "markdown",
   "id": "a5db5fe9-17d7-4543-aec0-e47fe97563e5",
   "metadata": {},
   "source": [
    "# String Operations"
   ]
  },
  {
   "cell_type": "markdown",
   "id": "b9b741eb-24f9-461f-9413-097426ff34a7",
   "metadata": {},
   "source": [
    "<b> 1) Consider the variable d use slicing to print out the first three elements:"
   ]
  },
  {
   "cell_type": "code",
   "execution_count": 1,
   "id": "8a13b41e-d67a-4cce-a8ce-72c1223d94a1",
   "metadata": {},
   "outputs": [
    {
     "name": "stdout",
     "output_type": "stream",
     "text": [
      "ABC\n",
      "ABC\n"
     ]
    }
   ],
   "source": [
    "# Write your code below and press Shift+Enter to execute\n",
    "\n",
    "d = \"ABCDEFG\"\n",
    "print(d[:3]) \n",
    "\n",
    "# or \n",
    "\n",
    "print(d[0:3])"
   ]
  },
  {
   "cell_type": "markdown",
   "id": "be1cb496-de4c-4041-9389-30960cd3ab7b",
   "metadata": {},
   "source": [
    "<b> 2) Use a stride value of 2 to print out every second character of the string <code>e</code>:"
   ]
  },
  {
   "cell_type": "code",
   "execution_count": 4,
   "id": "df2e3dd8-b402-4429-85ce-aca834ee90d9",
   "metadata": {},
   "outputs": [
    {
     "name": "stdout",
     "output_type": "stream",
     "text": [
      "correct\n"
     ]
    }
   ],
   "source": [
    "# Write your code below and press Shift+Enter to execute\n",
    "\n",
    "e = 'clocrkr1e1c1t'\n",
    "print( e[::2])"
   ]
  },
  {
   "cell_type": "markdown",
   "id": "ec1b3c04-5789-401b-bce9-1feb163b17ad",
   "metadata": {},
   "source": [
    "<b> 3) Print out a backslash:"
   ]
  },
  {
   "cell_type": "code",
   "execution_count": 22,
   "id": "688aba9f-1a26-433d-a0d0-1520225c5cfb",
   "metadata": {},
   "outputs": [
    {
     "name": "stdout",
     "output_type": "stream",
     "text": [
      "\\\n",
      "\\ \n"
     ]
    }
   ],
   "source": [
    "print(\"\\\\\")\n",
    "print(r\"\\ \") # raw strings cannot end with a single backslash. If space is deleted in raw string, it will show error.\n"
   ]
  },
  {
   "cell_type": "markdown",
   "id": "51cf1686-d6e4-44be-8644-e2574457638a",
   "metadata": {},
   "source": [
    "<b> 4) Convert the variable f to uppercase:"
   ]
  },
  {
   "cell_type": "code",
   "execution_count": 23,
   "id": "6c6859ab-14df-4adf-99be-39224ab76d5a",
   "metadata": {},
   "outputs": [
    {
     "data": {
      "text/plain": [
       "'YOU ARE WRONG'"
      ]
     },
     "execution_count": 23,
     "metadata": {},
     "output_type": "execute_result"
    }
   ],
   "source": [
    "# Write your code below and press Shift+Enter to execute\n",
    "\n",
    "f = \"You are wrong\"\n",
    "f.upper()"
   ]
  },
  {
   "cell_type": "markdown",
   "id": "7d20c2d2-feb4-41da-b975-89f5a064360f",
   "metadata": {},
   "source": [
    "<b> 5) Convert the variable f2 to lowercase:"
   ]
  },
  {
   "cell_type": "code",
   "execution_count": 24,
   "id": "25ea9352-31e4-43d3-aabf-a62f7d822307",
   "metadata": {},
   "outputs": [
    {
     "data": {
      "text/plain": [
       "'you are right'"
      ]
     },
     "execution_count": 24,
     "metadata": {},
     "output_type": "execute_result"
    }
   ],
   "source": [
    "# Write your code below and press Shift+Enter to execute\n",
    "f2=\"YOU ARE RIGHT\"\n",
    "f2.lower()"
   ]
  },
  {
   "cell_type": "markdown",
   "id": "fc955047-1b00-48a4-9bbf-e98ce69c5baf",
   "metadata": {},
   "source": [
    "<b> 6) Consider the variable g, and find the first index of the sub-string snow:"
   ]
  },
  {
   "cell_type": "code",
   "execution_count": 25,
   "id": "0f55601a-cc72-4d62-9bbb-0348d81d03c2",
   "metadata": {},
   "outputs": [
    {
     "data": {
      "text/plain": [
       "95"
      ]
     },
     "execution_count": 25,
     "metadata": {},
     "output_type": "execute_result"
    }
   ],
   "source": [
    "# Write your code below and press Shift+Enter to execute\n",
    "\n",
    "g = \"Mary had a little lamb Little lamb, little lamb Mary had a little lamb \\\n",
    "Its fleece was white as snow And everywhere that Mary went Mary went, Mary went \\\n",
    "Everywhere that Mary went The lamb was sure to go\"\n",
    "g.find(\"snow\")"
   ]
  },
  {
   "cell_type": "markdown",
   "id": "dadd6267-eda1-47a0-a8b7-4b4dd233c88c",
   "metadata": {},
   "source": [
    "<b> 7) In the variable g, replace the sub-string Mary with Bob:"
   ]
  },
  {
   "cell_type": "code",
   "execution_count": 26,
   "id": "5eeb3689-e54e-418d-8c8c-6bab1a286dfa",
   "metadata": {},
   "outputs": [
    {
     "data": {
      "text/plain": [
       "'Bob had a little lamb Little lamb, little lamb Bob had a little lamb Its fleece was white as snow And everywhere that Bob went Bob went, Bob went Everywhere that Bob went The lamb was sure to go'"
      ]
     },
     "execution_count": 26,
     "metadata": {},
     "output_type": "execute_result"
    }
   ],
   "source": [
    "g.replace(\"Mary\", \"Bob\")"
   ]
  },
  {
   "cell_type": "markdown",
   "id": "884a53a7-11b8-4a9d-849a-2eb5ab1aef39",
   "metadata": {},
   "source": [
    "<b> 8) In the variable g, split the substring to list:"
   ]
  },
  {
   "cell_type": "code",
   "execution_count": 27,
   "id": "e449ce19-f294-42d7-9caa-1e8f548f6119",
   "metadata": {},
   "outputs": [
    {
     "data": {
      "text/plain": [
       "['Mary',\n",
       " 'had',\n",
       " 'a',\n",
       " 'little',\n",
       " 'lamb',\n",
       " 'Little',\n",
       " 'lamb,',\n",
       " 'little',\n",
       " 'lamb',\n",
       " 'Mary',\n",
       " 'had',\n",
       " 'a',\n",
       " 'little',\n",
       " 'lamb',\n",
       " 'Its',\n",
       " 'fleece',\n",
       " 'was',\n",
       " 'white',\n",
       " 'as',\n",
       " 'snow',\n",
       " 'And',\n",
       " 'everywhere',\n",
       " 'that',\n",
       " 'Mary',\n",
       " 'went',\n",
       " 'Mary',\n",
       " 'went,',\n",
       " 'Mary',\n",
       " 'went',\n",
       " 'Everywhere',\n",
       " 'that',\n",
       " 'Mary',\n",
       " 'went',\n",
       " 'The',\n",
       " 'lamb',\n",
       " 'was',\n",
       " 'sure',\n",
       " 'to',\n",
       " 'go']"
      ]
     },
     "execution_count": 27,
     "metadata": {},
     "output_type": "execute_result"
    }
   ],
   "source": [
    "g.split()"
   ]
  },
  {
   "cell_type": "code",
   "execution_count": null,
   "id": "d3a1d739-edd8-4d36-8c7a-248d081ff9b8",
   "metadata": {},
   "outputs": [],
   "source": []
  }
 ],
 "metadata": {
  "kernelspec": {
   "display_name": "Python 3 (ipykernel)",
   "language": "python",
   "name": "python3"
  },
  "language_info": {
   "codemirror_mode": {
    "name": "ipython",
    "version": 3
   },
   "file_extension": ".py",
   "mimetype": "text/x-python",
   "name": "python",
   "nbconvert_exporter": "python",
   "pygments_lexer": "ipython3",
   "version": "3.11.6"
  }
 },
 "nbformat": 4,
 "nbformat_minor": 5
}
