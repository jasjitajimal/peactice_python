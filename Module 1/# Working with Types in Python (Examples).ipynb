{
 "cells": [
  {
   "cell_type": "markdown",
   "id": "53aece39-b526-445f-aebc-d6c981d7caea",
   "metadata": {},
   "source": [
    "# Working with Types in Python (Examples)"
   ]
  },
  {
   "cell_type": "markdown",
   "id": "3e130b93-6c35-4ab3-b1ef-627086eb0a6a",
   "metadata": {},
   "source": [
    "<B> 1) Use the type() function to check the object type of 12.0."
   ]
  },
  {
   "cell_type": "code",
   "execution_count": null,
   "id": "56e7a85b-1ba9-4fee-86a4-af2edef3fb11",
   "metadata": {},
   "outputs": [],
   "source": []
  }
 ],
 "metadata": {
  "kernelspec": {
   "display_name": "Python 3 (ipykernel)",
   "language": "python",
   "name": "python3"
  },
  "language_info": {
   "codemirror_mode": {
    "name": "ipython",
    "version": 3
   },
   "file_extension": ".py",
   "mimetype": "text/x-python",
   "name": "python",
   "nbconvert_exporter": "python",
   "pygments_lexer": "ipython3",
   "version": "3.11.6"
  }
 },
 "nbformat": 4,
 "nbformat_minor": 5
}
