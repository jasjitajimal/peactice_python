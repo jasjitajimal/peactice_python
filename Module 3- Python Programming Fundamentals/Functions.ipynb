{
 "cells": [
  {
   "cell_type": "markdown",
   "id": "c24cda44-3149-4ff8-84e9-d05741b8ab2a",
   "metadata": {},
   "source": [
    "# Functions in Python"
   ]
  },
  {
   "cell_type": "markdown",
   "id": "e8a9becd-c4f3-4f99-b9a8-a7f1d2ebbfff",
   "metadata": {},
   "source": [
    "A function is a reusable block of code which performs operations specified in the function. They let you break down tasks and allow you to reuse your code in different programs.\n",
    "\n",
    "There are two types of functions :\n",
    "\n",
    "*   <b>Pre-defined functions</b>\n",
    "*   <b>User defined functions</b>"
   ]
  },
  {
   "cell_type": "markdown",
   "id": "586410ae-87ff-44d6-9866-fe7201bc5371",
   "metadata": {},
   "source": [
    "<h3 id=\"content\">What is a Function?</h3>"
   ]
  },
  {
   "cell_type": "markdown",
   "id": "8eef2601-6dad-4987-ab85-9f2958f5ba99",
   "metadata": {},
   "source": [
    "You can define functions to provide the required functionality. Here are simple rules to define a function in Python:\n",
    "\n",
    "*   Functions blocks begin <code>def</code> followed by the function <code>name</code> and parentheses <code>()</code>.\n",
    "*   There are input parameters or arguments that should be placed within these parentheses.\n",
    "*   You can also define parameters inside these parentheses.\n",
    "*   There is a body within every function that starts with a colon (<code>:</code>) and is indented.\n",
    "*   You can also place documentation before the body.\n",
    "*   The statement <code>return</code> exits a function, optionally passing back a value.\n",
    "\n",
    "An example of a function that adds on to the parameter <code>a</code> prints and returns the output as <code>b</code>:"
   ]
  },
  {
   "cell_type": "code",
   "execution_count": 5,
   "id": "886457f6-756e-4b11-8d18-e2d6eee76fca",
   "metadata": {},
   "outputs": [],
   "source": [
    "# First function example: Add 1 to a and store as b\n",
    "\n",
    "def add(a):\n",
    "    \"\"\"\n",
    "    add 1 to a\n",
    "    \"\"\"\n",
    "    b = a + 1\n",
    "    print(a, \"if you add one\", b)\n",
    "    return(b)"
   ]
  },
  {
   "cell_type": "markdown",
   "id": "8f9d3da9-e433-4b8e-a7e4-11715e88e73c",
   "metadata": {},
   "source": [
    "<img src=\"https://cf-courses-data.s3.us.cloud-object-storage.appdomain.cloud/IBMDeveloperSkillsNetwork-PY0101EN-SkillsNetwork/labs/Module%203/images/FuncsDefinition.png\" width=\"500\"> \n"
   ]
  },
  {
   "cell_type": "markdown",
   "id": "cf6c5083-0e91-468c-b68e-859e9cbb2cfc",
   "metadata": {},
   "source": [
    "We can obtain help about a function :\n"
   ]
  },
  {
   "cell_type": "code",
   "execution_count": 8,
   "id": "d51500b4-8acc-489a-b817-f2af785d34db",
   "metadata": {},
   "outputs": [
    {
     "name": "stdout",
     "output_type": "stream",
     "text": [
      "Help on function add in module __main__:\n",
      "\n",
      "add(a)\n",
      "    add 1 to a\n",
      "\n"
     ]
    }
   ],
   "source": [
    "# Get a help on add function\n",
    "\n",
    "help(add)"
   ]
  },
  {
   "cell_type": "markdown",
   "id": "9497fd20-421f-4a01-9886-8f7f0f45571e",
   "metadata": {},
   "source": [
    "We can call the function:"
   ]
  },
  {
   "cell_type": "code",
   "execution_count": 9,
   "id": "9d251ffa-bc46-4c9e-b287-c3fee72dfdca",
   "metadata": {},
   "outputs": [
    {
     "name": "stdout",
     "output_type": "stream",
     "text": [
      "1 if you add one 2\n"
     ]
    },
    {
     "data": {
      "text/plain": [
       "2"
      ]
     },
     "execution_count": 9,
     "metadata": {},
     "output_type": "execute_result"
    }
   ],
   "source": [
    "# Call the function add()\n",
    "\n",
    "add(1)"
   ]
  },
  {
   "cell_type": "markdown",
   "id": "77fb6029-80ee-41c9-9eb6-5a42b550852a",
   "metadata": {},
   "source": [
    "If we call the function with a new input we get a new result:"
   ]
  },
  {
   "cell_type": "code",
   "execution_count": 10,
   "id": "7ff3d299-1865-4d7f-a6db-f67fee27f128",
   "metadata": {},
   "outputs": [
    {
     "name": "stdout",
     "output_type": "stream",
     "text": [
      "2 if you add one 3\n"
     ]
    },
    {
     "data": {
      "text/plain": [
       "3"
      ]
     },
     "execution_count": 10,
     "metadata": {},
     "output_type": "execute_result"
    }
   ],
   "source": [
    "# Call the function add()\n",
    "\n",
    "add(2)"
   ]
  },
  {
   "cell_type": "markdown",
   "id": "1937fb13-6fa5-49ee-ad13-40984921a2f1",
   "metadata": {},
   "source": [
    "<h3 id=\"var\">Variables</h3>\n"
   ]
  },
  {
   "cell_type": "markdown",
   "id": "168a18bb-ee14-4d4c-8206-9b9f0ef86224",
   "metadata": {},
   "source": [
    "The input to a function is called a formal parameter.\n",
    "\n",
    "A variable that is declared inside a function is called a  local variable. The parameter only exists within the function (i.e. the point where the function starts and stops).\n",
    "\n",
    "A variable that is declared outside a function definition is a global variable, and its value is accessible and modifiable throughout the program. We will discuss more about global variables at the end of the lab.\n"
   ]
  },
  {
   "cell_type": "code",
   "execution_count": null,
   "id": "288fe600-1dd3-4d4f-b43e-18ff45bc9d3b",
   "metadata": {},
   "outputs": [],
   "source": []
  }
 ],
 "metadata": {
  "kernelspec": {
   "display_name": "Python 3 (ipykernel)",
   "language": "python",
   "name": "python3"
  },
  "language_info": {
   "codemirror_mode": {
    "name": "ipython",
    "version": 3
   },
   "file_extension": ".py",
   "mimetype": "text/x-python",
   "name": "python",
   "nbconvert_exporter": "python",
   "pygments_lexer": "ipython3",
   "version": "3.11.6"
  }
 },
 "nbformat": 4,
 "nbformat_minor": 5
}
